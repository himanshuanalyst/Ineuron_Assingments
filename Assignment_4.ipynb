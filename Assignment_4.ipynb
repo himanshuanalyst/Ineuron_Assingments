{
 "cells": [
  {
   "cell_type": "markdown",
   "id": "53486a9b",
   "metadata": {},
   "source": [
    "1. What exactly is []?"
   ]
  },
  {
   "cell_type": "markdown",
   "id": "1ab726c1",
   "metadata": {},
   "source": [
    "Ans. [ ] is used for list. it is empyty list."
   ]
  },
  {
   "cell_type": "markdown",
   "id": "60b3606a",
   "metadata": {},
   "source": [
    "2. In a list of values stored in a variable called spam, how would you assign the value 'hello' as the third value? (Assume [2, 4, 6, 8, 10] are in spam.)"
   ]
  },
  {
   "cell_type": "markdown",
   "id": "3e56adbb",
   "metadata": {},
   "source": [
    "Ans. spam.insert(2,'hello')"
   ]
  },
  {
   "cell_type": "markdown",
   "id": "34830ca0",
   "metadata": {},
   "source": [
    "# Let's pretend the spam includes the list ['a', 'b', 'c', 'd'] for the next three queries.\n",
    "\n",
    "3. What is the value of spam[int(int('3' * 2) / 11)]?\n"
   ]
  },
  {
   "cell_type": "markdown",
   "id": "7f506b4b",
   "metadata": {},
   "source": [
    "Ans. d"
   ]
  },
  {
   "cell_type": "markdown",
   "id": "a3d01d10",
   "metadata": {},
   "source": [
    "4. What is the value of spam[-1]?"
   ]
  },
  {
   "cell_type": "markdown",
   "id": "dd89cbd7",
   "metadata": {},
   "source": [
    "Ans. d"
   ]
  },
  {
   "cell_type": "markdown",
   "id": "73a3e4d0",
   "metadata": {},
   "source": [
    "5. What is the value of spam[:2]?\n",
    "\n",
    "Ans. ['a', 'b']"
   ]
  },
  {
   "cell_type": "markdown",
   "id": "66af07ce",
   "metadata": {},
   "source": [
    "# Let's pretend bacon has the list [3.14, 'cat', 11, 'cat', True] for the next three questions.\n",
    "\n",
    "6. What is the value of bacon.index('cat')?\n",
    "\n",
    "Ans. 1"
   ]
  },
  {
   "cell_type": "markdown",
   "id": "a0f784b6",
   "metadata": {},
   "source": [
    "7. How does bacon.append(99) change the look of the list value in bacon?\n",
    "\n",
    "Ans. bacon.append(99) will add 99 in last of bacon list.\n",
    "[3.14, 'cat', 11, 'cat', True, 99]"
   ]
  },
  {
   "cell_type": "markdown",
   "id": "c4a0353b",
   "metadata": {},
   "source": [
    "8. How does bacon.remove('cat') change the look of the list in bacon?\n",
    "\n",
    "Ans. bacon.remove('cat') will remove 'cat' first appeared from list. and the list looks like\n",
    " [3.14, 11, 'cat', True, 99]"
   ]
  },
  {
   "cell_type": "markdown",
   "id": "3a8833f6",
   "metadata": {},
   "source": [
    "9. What are the list concatenation and list replication operators?\n",
    "\n",
    "Ans. list Concatenation operators:   +,* before list, list.extend()\n",
    "\n",
    "example: let suppose we have two list L1 and L2\n",
    "    \n",
    "    l1+l2\n",
    "    \n",
    "    [*L1,*l2]\n",
    "    \n",
    "    L1.extend()\n",
    "\n",
    "list replication operators: * after list\n",
    "\n",
    "example: Let suppose we we have list 'L'\n",
    "    \n",
    "    L*3"
   ]
  },
  {
   "cell_type": "markdown",
   "id": "d155a7f0",
   "metadata": {},
   "source": [
    "10. What is difference between the list methods append() and insert()?\n",
    "\n",
    "Ans. append() will add elements in list in last while by insert() we can add elemets in list at any place where we want to insert it. "
   ]
  },
  {
   "cell_type": "markdown",
   "id": "751e3da6",
   "metadata": {},
   "source": [
    "11. What are the two methods for removing items from a list?\n",
    "\n",
    "Ans. we can use .pop() and .remove() methods fro removing items from a list."
   ]
  },
  {
   "cell_type": "markdown",
   "id": "3eb5b537",
   "metadata": {},
   "source": [
    "12. Describe how list values and string values are identical.\n",
    "\n",
    "Ans. Both lsit values and string values are identical in term of sequence. both save in sequence. and both can slice with the help of their indexes."
   ]
  },
  {
   "cell_type": "markdown",
   "id": "77f30c42",
   "metadata": {},
   "source": [
    "13. What's the difference between tuples and lists?\n",
    "\n",
    "Ans. The main difference between tuples and list are that list are mutable and tuples are not mutable."
   ]
  },
  {
   "cell_type": "markdown",
   "id": "8f1e7d07",
   "metadata": {},
   "source": [
    "14. How do you type a tuple value that only contains the integer 42?\n",
    "\n",
    "Ans. we will write 45 with , within ( ) paranthesis. Example t=(45,)"
   ]
  },
  {
   "cell_type": "markdown",
   "id": "e69d5e07",
   "metadata": {},
   "source": [
    "15. How do you get a list value's tuple form? How do you get a tuple value's list form?\n",
    "\n",
    "Ans. The tuple() and list() functions, respectively are used to convert a list to tuple and tuple to list."
   ]
  },
  {
   "cell_type": "markdown",
   "id": "7938b6bf",
   "metadata": {},
   "source": [
    "16. Variables that \"contain\" list values are not necessarily lists themselves. Instead, what do they contain?\n",
    "\n",
    "An. They contain references to list values."
   ]
  },
  {
   "cell_type": "markdown",
   "id": "15a7cba6",
   "metadata": {},
   "source": [
    "17. How do you distinguish between copy.copy() and copy.deepcopy()?\n",
    "\n",
    "Ans. The copy.copy() function will do a shallow copy of a list, while the copy.deepcopy() function will do a deep copy of a list. That is, only copy.deepcopy() will duplicate any lists inside the list."
   ]
  }
 ],
 "metadata": {
  "kernelspec": {
   "display_name": "Python 3 (ipykernel)",
   "language": "python",
   "name": "python3"
  },
  "language_info": {
   "codemirror_mode": {
    "name": "ipython",
    "version": 3
   },
   "file_extension": ".py",
   "mimetype": "text/x-python",
   "name": "python",
   "nbconvert_exporter": "python",
   "pygments_lexer": "ipython3",
   "version": "3.9.12"
  }
 },
 "nbformat": 4,
 "nbformat_minor": 5
}
